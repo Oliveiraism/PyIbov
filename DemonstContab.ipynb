{
 "cells": [
  {
   "cell_type": "markdown",
   "metadata": {},
   "source": [
    "Início"
   ]
  },
  {
   "cell_type": "code",
   "execution_count": 2,
   "metadata": {},
   "outputs": [],
   "source": [
    "import pandas as pd\n",
    "import requests\n",
    "import os\n",
    "import zipfile"
   ]
  },
  {
   "cell_type": "code",
   "execution_count": 3,
   "metadata": {},
   "outputs": [],
   "source": [
    "diretorio_atual = os.getcwd()\n",
    "os.chdir(f\"{diretorio_atual}/dados_cvm\")"
   ]
  },
  {
   "cell_type": "markdown",
   "metadata": {},
   "source": [
    "Importação de bases"
   ]
  },
  {
   "cell_type": "code",
   "execution_count": 4,
   "metadata": {},
   "outputs": [
    {
     "name": "stdout",
     "output_type": "stream",
     "text": [
      "2022-09-27 22:28:45.671692\n"
     ]
    }
   ],
   "source": [
    "anos = range(2010,2023)\n",
    "url_base = 'https://dados.cvm.gov.br/dados/cia_aberta/doc/DFP/DADOS/'\n",
    "\n",
    "for ano in anos:\n",
    "    download = requests.get(url_base+f'dfp_cia_aberta_{ano}.zip')\n",
    "\n",
    "    open(f'dfp_cia_aberta_{ano}.zip', 'wb').write(download.content)\n",
    "\n",
    "print(pd.Timestamp.now())"
   ]
  },
  {
   "cell_type": "markdown",
   "metadata": {},
   "source": [
    "Construção e formatação da base de dados"
   ]
  },
  {
   "cell_type": "code",
   "execution_count": 5,
   "metadata": {},
   "outputs": [
    {
     "data": {
      "text/plain": [
       "Timestamp('2022-09-27 22:29:27.283599')"
      ]
     },
     "execution_count": 5,
     "metadata": {},
     "output_type": "execute_result"
    }
   ],
   "source": [
    "pd.Timestamp.now()\n",
    "lista_demonstracoes = []\n",
    "diretorio_atual = os.getcwd()\n",
    "for arquivo in os.listdir(diretorio_atual):\n",
    "    if arquivo == '.ipynb_checkpoints':\n",
    "        pass\n",
    "    else:\n",
    "        arquivo_zip = zipfile.ZipFile(arquivo)\n",
    "\n",
    "        for planilha in arquivo_zip.namelist():\n",
    "            demonstracao = pd.read_csv(arquivo_zip.open(planilha),sep=';', encoding='ISO-8859-1',\n",
    "                                        dtype={'ORDEM_EXERC':'category'})\n",
    "            lista_demonstracoes.append(demonstracao)\n",
    "pd.Timestamp.now()"
   ]
  },
  {
   "cell_type": "code",
   "execution_count": 6,
   "metadata": {},
   "outputs": [
    {
     "data": {
      "text/plain": [
       "Timestamp('2022-09-27 22:29:33.170562')"
      ]
     },
     "execution_count": 6,
     "metadata": {},
     "output_type": "execute_result"
    }
   ],
   "source": [
    "base_dados = pd.concat(lista_demonstracoes)\n",
    "base_dados[:5]\n",
    "pd.Timestamp.now()"
   ]
  },
  {
   "cell_type": "code",
   "execution_count": 8,
   "metadata": {},
   "outputs": [
    {
     "data": {
      "text/plain": [
       "Timestamp('2022-09-27 22:32:36.370923')"
      ]
     },
     "execution_count": 8,
     "metadata": {},
     "output_type": "execute_result"
    }
   ],
   "source": [
    "base_dados[['con_ind','tipo_dem']] = base_dados['GRUPO_DFP'].str.split('-',expand=True)\n",
    "pd.Timestamp.now()"
   ]
  },
  {
   "cell_type": "code",
   "execution_count": 9,
   "metadata": {},
   "outputs": [
    {
     "data": {
      "text/plain": [
       "Timestamp('2022-09-27 22:32:41.147278')"
      ]
     },
     "execution_count": 9,
     "metadata": {},
     "output_type": "execute_result"
    }
   ],
   "source": [
    "base_dados['con_ind'] = base_dados['con_ind'].str.strip()\n",
    "pd.Timestamp.now()"
   ]
  },
  {
   "cell_type": "code",
   "execution_count": 10,
   "metadata": {},
   "outputs": [
    {
     "data": {
      "text/plain": [
       "Timestamp('2022-09-27 22:32:46.755277')"
      ]
     },
     "execution_count": 10,
     "metadata": {},
     "output_type": "execute_result"
    }
   ],
   "source": [
    "base_dados['tipo_dem'] = base_dados['tipo_dem'].str.strip()\n",
    "pd.Timestamp.now()"
   ]
  },
  {
   "cell_type": "code",
   "execution_count": 11,
   "metadata": {},
   "outputs": [
    {
     "data": {
      "text/plain": [
       "Timestamp('2022-09-27 22:34:37.695405')"
      ]
     },
     "execution_count": 11,
     "metadata": {},
     "output_type": "execute_result"
    }
   ],
   "source": [
    "base_dados = base_dados[base_dados['ORDEM_EXERC'] != 'PENÚLTIMO']\n",
    "pd.Timestamp.now()"
   ]
  },
  {
   "cell_type": "code",
   "execution_count": 12,
   "metadata": {},
   "outputs": [
    {
     "name": "stdout",
     "output_type": "stream",
     "text": [
      "[nan 'Balanço Patrimonial Ativo' 'Balanço Patrimonial Passivo'\n",
      " 'Demonstração do Fluxo de Caixa (Método Direto)'\n",
      " 'Demonstração do Fluxo de Caixa (Método Indireto)'\n",
      " 'Demonstração das Mutações do Patrimônio Líquido'\n",
      " 'Demonstração de Resultado Abrangente' 'Demonstração do Resultado'\n",
      " 'Demonstração de Valor Adicionado']\n"
     ]
    },
    {
     "data": {
      "text/plain": [
       "Timestamp('2022-09-27 22:34:39.429674')"
      ]
     },
     "execution_count": 12,
     "metadata": {},
     "output_type": "execute_result"
    }
   ],
   "source": [
    "lista_dem = base_dados['tipo_dem'].unique()\n",
    "#base_dados['tipo_dem'].unique()\n",
    "print(lista_dem)\n",
    "pd.Timestamp.now()"
   ]
  },
  {
   "cell_type": "code",
   "execution_count": 13,
   "metadata": {},
   "outputs": [
    {
     "name": "stdout",
     "output_type": "stream",
     "text": [
      "['BCO BRASIL S.A.' 'BRB BCO DE BRASILIA S.A.'\n",
      " 'CENTRAIS ELET BRAS S.A. - ELETROBRAS' ...\n",
      " 'UNIÃO QUÍMICA FARMACÊUTICA NACIONAL S.A.' 'CLARANET TECHNOLOGY S.A.'\n",
      " 'SENIOR SISTEMAS S.A.']\n"
     ]
    },
    {
     "data": {
      "text/plain": [
       "Timestamp('2022-09-27 22:34:40.113941')"
      ]
     },
     "execution_count": 13,
     "metadata": {},
     "output_type": "execute_result"
    }
   ],
   "source": [
    "lista_empresas = base_dados['DENOM_CIA'].unique()\n",
    "print(lista_empresas)\n",
    "pd.Timestamp.now()"
   ]
  },
  {
   "cell_type": "code",
   "execution_count": 14,
   "metadata": {},
   "outputs": [
    {
     "name": "stdout",
     "output_type": "stream",
     "text": [
      "[nan 'Ativo Total' 'Caixa e Equivalentes de Caixa' ...\n",
      " 'Demais despesas financeiras'\n",
      " 'Ganho líquido decorrente de mudança no valor justo e realização da mais ou menos valia dos ativos bi'\n",
      " '41689']\n"
     ]
    },
    {
     "data": {
      "text/plain": [
       "Timestamp('2022-09-27 22:34:40.627990')"
      ]
     },
     "execution_count": 14,
     "metadata": {},
     "output_type": "execute_result"
    }
   ],
   "source": [
    "lista_conta = base_dados['DS_CONTA'].unique()\n",
    "print(lista_conta)\n",
    "pd.Timestamp.now()"
   ]
  },
  {
   "cell_type": "markdown",
   "metadata": {},
   "source": [
    "Filtro para empresas desejadas"
   ]
  },
  {
   "cell_type": "code",
   "execution_count": 22,
   "metadata": {},
   "outputs": [],
   "source": [
    "filtro = ['BCO BRASIL S.A.', 'BRB BCO DE BRASILIA S.A.','IRB - BRASIL RESSEGUROS S.A.']\n",
    "filtro_dre = base_dados[base_dados.DENOM_CIA.isin(filtro)\n",
    "                        #&(base_dados['tipo_dem']=='Demonstração de Resultados')\n",
    "                        ]"
   ]
  },
  {
   "cell_type": "code",
   "execution_count": 23,
   "metadata": {},
   "outputs": [],
   "source": [
    "lista_conta = filtro_dre['DS_CONTA'].unique()\n",
    "lista_dem = filtro_dre['tipo_dem'].unique()\n"
   ]
  },
  {
   "cell_type": "code",
   "execution_count": 24,
   "metadata": {},
   "outputs": [],
   "source": [
    "campos = ['Imposto de Renda e Contribuição Social sobre o Lucro'\n",
    "            ,'Receitas das Operações'\n",
    "            ,'Lucro Líquido do Período'\n",
    "            ,'Lucro Líquido Consolidado do Período'\n",
    "            ,'Lucro/Prejuízo Consolidado do Período'\n",
    "            ,'Lucro/Prejuízo do Período'\n",
    "            ,'Imposto de Renda e Contribuição Social sobre o Lucro'\n",
    "            ,'Depreciação, Amortização e Exaustão']\n",
    "filtro_dre2 = filtro_dre[filtro_dre.DS_CONTA.isin(campos)]"
   ]
  },
  {
   "cell_type": "code",
   "execution_count": 25,
   "metadata": {},
   "outputs": [
    {
     "data": {
      "text/html": [
       "<div>\n",
       "<style scoped>\n",
       "    .dataframe tbody tr th:only-of-type {\n",
       "        vertical-align: middle;\n",
       "    }\n",
       "\n",
       "    .dataframe tbody tr th {\n",
       "        vertical-align: top;\n",
       "    }\n",
       "\n",
       "    .dataframe thead th {\n",
       "        text-align: right;\n",
       "    }\n",
       "</style>\n",
       "<table border=\"1\" class=\"dataframe\">\n",
       "  <thead>\n",
       "    <tr style=\"text-align: right;\">\n",
       "      <th></th>\n",
       "      <th>CNPJ_CIA</th>\n",
       "      <th>DT_REFER</th>\n",
       "      <th>VERSAO</th>\n",
       "      <th>DENOM_CIA</th>\n",
       "      <th>CD_CVM</th>\n",
       "      <th>CATEG_DOC</th>\n",
       "      <th>ID_DOC</th>\n",
       "      <th>DT_RECEB</th>\n",
       "      <th>LINK_DOC</th>\n",
       "      <th>GRUPO_DFP</th>\n",
       "      <th>...</th>\n",
       "      <th>ORDEM_EXERC</th>\n",
       "      <th>DT_FIM_EXERC</th>\n",
       "      <th>CD_CONTA</th>\n",
       "      <th>DS_CONTA</th>\n",
       "      <th>VL_CONTA</th>\n",
       "      <th>ST_CONTA_FIXA</th>\n",
       "      <th>DT_INI_EXERC</th>\n",
       "      <th>COLUNA_DF</th>\n",
       "      <th>con_ind</th>\n",
       "      <th>tipo_dem</th>\n",
       "    </tr>\n",
       "  </thead>\n",
       "  <tbody>\n",
       "    <tr>\n",
       "      <th>257</th>\n",
       "      <td>00.000.000/0001-91</td>\n",
       "      <td>2010-12-31</td>\n",
       "      <td>3</td>\n",
       "      <td>BCO BRASIL S.A.</td>\n",
       "      <td>1023</td>\n",
       "      <td>NaN</td>\n",
       "      <td>NaN</td>\n",
       "      <td>NaN</td>\n",
       "      <td>NaN</td>\n",
       "      <td>DF Consolidado - Demonstração das Mutações do ...</td>\n",
       "      <td>...</td>\n",
       "      <td>ÚLTIMO</td>\n",
       "      <td>2010-12-31</td>\n",
       "      <td>5.05.01</td>\n",
       "      <td>Lucro Líquido do Período</td>\n",
       "      <td>0.0</td>\n",
       "      <td>S</td>\n",
       "      <td>2010-01-01</td>\n",
       "      <td>Capital Social Integralizado</td>\n",
       "      <td>DF Consolidado</td>\n",
       "      <td>Demonstração das Mutações do Patrimônio Líquido</td>\n",
       "    </tr>\n",
       "    <tr>\n",
       "      <th>259</th>\n",
       "      <td>00.000.000/0001-91</td>\n",
       "      <td>2010-12-31</td>\n",
       "      <td>3</td>\n",
       "      <td>BCO BRASIL S.A.</td>\n",
       "      <td>1023</td>\n",
       "      <td>NaN</td>\n",
       "      <td>NaN</td>\n",
       "      <td>NaN</td>\n",
       "      <td>NaN</td>\n",
       "      <td>DF Consolidado - Demonstração das Mutações do ...</td>\n",
       "      <td>...</td>\n",
       "      <td>ÚLTIMO</td>\n",
       "      <td>2010-12-31</td>\n",
       "      <td>5.05.01</td>\n",
       "      <td>Lucro Líquido do Período</td>\n",
       "      <td>0.0</td>\n",
       "      <td>S</td>\n",
       "      <td>2010-01-01</td>\n",
       "      <td>Reservas de Capital, Opções Outorgadas e Ações...</td>\n",
       "      <td>DF Consolidado</td>\n",
       "      <td>Demonstração das Mutações do Patrimônio Líquido</td>\n",
       "    </tr>\n",
       "    <tr>\n",
       "      <th>261</th>\n",
       "      <td>00.000.000/0001-91</td>\n",
       "      <td>2010-12-31</td>\n",
       "      <td>3</td>\n",
       "      <td>BCO BRASIL S.A.</td>\n",
       "      <td>1023</td>\n",
       "      <td>NaN</td>\n",
       "      <td>NaN</td>\n",
       "      <td>NaN</td>\n",
       "      <td>NaN</td>\n",
       "      <td>DF Consolidado - Demonstração das Mutações do ...</td>\n",
       "      <td>...</td>\n",
       "      <td>ÚLTIMO</td>\n",
       "      <td>2010-12-31</td>\n",
       "      <td>5.05.01</td>\n",
       "      <td>Lucro Líquido do Período</td>\n",
       "      <td>0.0</td>\n",
       "      <td>S</td>\n",
       "      <td>2010-01-01</td>\n",
       "      <td>Reservas de Lucro</td>\n",
       "      <td>DF Consolidado</td>\n",
       "      <td>Demonstração das Mutações do Patrimônio Líquido</td>\n",
       "    </tr>\n",
       "    <tr>\n",
       "      <th>263</th>\n",
       "      <td>00.000.000/0001-91</td>\n",
       "      <td>2010-12-31</td>\n",
       "      <td>3</td>\n",
       "      <td>BCO BRASIL S.A.</td>\n",
       "      <td>1023</td>\n",
       "      <td>NaN</td>\n",
       "      <td>NaN</td>\n",
       "      <td>NaN</td>\n",
       "      <td>NaN</td>\n",
       "      <td>DF Consolidado - Demonstração das Mutações do ...</td>\n",
       "      <td>...</td>\n",
       "      <td>ÚLTIMO</td>\n",
       "      <td>2010-12-31</td>\n",
       "      <td>5.05.01</td>\n",
       "      <td>Lucro Líquido do Período</td>\n",
       "      <td>11296009.0</td>\n",
       "      <td>S</td>\n",
       "      <td>2010-01-01</td>\n",
       "      <td>Lucros ou Prejuízos Acumulados</td>\n",
       "      <td>DF Consolidado</td>\n",
       "      <td>Demonstração das Mutações do Patrimônio Líquido</td>\n",
       "    </tr>\n",
       "    <tr>\n",
       "      <th>265</th>\n",
       "      <td>00.000.000/0001-91</td>\n",
       "      <td>2010-12-31</td>\n",
       "      <td>3</td>\n",
       "      <td>BCO BRASIL S.A.</td>\n",
       "      <td>1023</td>\n",
       "      <td>NaN</td>\n",
       "      <td>NaN</td>\n",
       "      <td>NaN</td>\n",
       "      <td>NaN</td>\n",
       "      <td>DF Consolidado - Demonstração das Mutações do ...</td>\n",
       "      <td>...</td>\n",
       "      <td>ÚLTIMO</td>\n",
       "      <td>2010-12-31</td>\n",
       "      <td>5.05.01</td>\n",
       "      <td>Lucro Líquido do Período</td>\n",
       "      <td>0.0</td>\n",
       "      <td>S</td>\n",
       "      <td>2010-01-01</td>\n",
       "      <td>Outros Resultados Abrangentes</td>\n",
       "      <td>DF Consolidado</td>\n",
       "      <td>Demonstração das Mutações do Patrimônio Líquido</td>\n",
       "    </tr>\n",
       "    <tr>\n",
       "      <th>...</th>\n",
       "      <td>...</td>\n",
       "      <td>...</td>\n",
       "      <td>...</td>\n",
       "      <td>...</td>\n",
       "      <td>...</td>\n",
       "      <td>...</td>\n",
       "      <td>...</td>\n",
       "      <td>...</td>\n",
       "      <td>...</td>\n",
       "      <td>...</td>\n",
       "      <td>...</td>\n",
       "      <td>...</td>\n",
       "      <td>...</td>\n",
       "      <td>...</td>\n",
       "      <td>...</td>\n",
       "      <td>...</td>\n",
       "      <td>...</td>\n",
       "      <td>...</td>\n",
       "      <td>...</td>\n",
       "      <td>...</td>\n",
       "      <td>...</td>\n",
       "    </tr>\n",
       "    <tr>\n",
       "      <th>117</th>\n",
       "      <td>00.000.208/0001-00</td>\n",
       "      <td>2021-12-31</td>\n",
       "      <td>3</td>\n",
       "      <td>BRB BCO DE BRASILIA S.A.</td>\n",
       "      <td>14206</td>\n",
       "      <td>NaN</td>\n",
       "      <td>NaN</td>\n",
       "      <td>NaN</td>\n",
       "      <td>NaN</td>\n",
       "      <td>DF Consolidado - Demonstração de Valor Adicionado</td>\n",
       "      <td>...</td>\n",
       "      <td>ÚLTIMO</td>\n",
       "      <td>2021-12-31</td>\n",
       "      <td>7.05.01</td>\n",
       "      <td>Depreciação, Amortização e Exaustão</td>\n",
       "      <td>-131565.0</td>\n",
       "      <td>S</td>\n",
       "      <td>2021-12-01</td>\n",
       "      <td>NaN</td>\n",
       "      <td>DF Consolidado</td>\n",
       "      <td>Demonstração de Valor Adicionado</td>\n",
       "    </tr>\n",
       "    <tr>\n",
       "      <th>24715</th>\n",
       "      <td>33.376.989/0001-91</td>\n",
       "      <td>2021-12-31</td>\n",
       "      <td>1</td>\n",
       "      <td>IRB - BRASIL RESSEGUROS S.A.</td>\n",
       "      <td>24180</td>\n",
       "      <td>NaN</td>\n",
       "      <td>NaN</td>\n",
       "      <td>NaN</td>\n",
       "      <td>NaN</td>\n",
       "      <td>DF Consolidado - Demonstração de Valor Adicionado</td>\n",
       "      <td>...</td>\n",
       "      <td>ÚLTIMO</td>\n",
       "      <td>2021-12-31</td>\n",
       "      <td>7.07.01</td>\n",
       "      <td>Depreciação, Amortização e Exaustão</td>\n",
       "      <td>-44374.0</td>\n",
       "      <td>S</td>\n",
       "      <td>2021-01-01</td>\n",
       "      <td>NaN</td>\n",
       "      <td>DF Consolidado</td>\n",
       "      <td>Demonstração de Valor Adicionado</td>\n",
       "    </tr>\n",
       "    <tr>\n",
       "      <th>45</th>\n",
       "      <td>00.000.000/0001-91</td>\n",
       "      <td>2021-12-31</td>\n",
       "      <td>2</td>\n",
       "      <td>BCO BRASIL S.A.</td>\n",
       "      <td>1023</td>\n",
       "      <td>NaN</td>\n",
       "      <td>NaN</td>\n",
       "      <td>NaN</td>\n",
       "      <td>NaN</td>\n",
       "      <td>DF Individual - Demonstração de Valor Adicionado</td>\n",
       "      <td>...</td>\n",
       "      <td>ÚLTIMO</td>\n",
       "      <td>2021-12-31</td>\n",
       "      <td>7.05.01</td>\n",
       "      <td>Depreciação, Amortização e Exaustão</td>\n",
       "      <td>-2763722.0</td>\n",
       "      <td>S</td>\n",
       "      <td>2021-01-01</td>\n",
       "      <td>NaN</td>\n",
       "      <td>DF Individual</td>\n",
       "      <td>Demonstração de Valor Adicionado</td>\n",
       "    </tr>\n",
       "    <tr>\n",
       "      <th>125</th>\n",
       "      <td>00.000.208/0001-00</td>\n",
       "      <td>2021-12-31</td>\n",
       "      <td>3</td>\n",
       "      <td>BRB BCO DE BRASILIA S.A.</td>\n",
       "      <td>14206</td>\n",
       "      <td>NaN</td>\n",
       "      <td>NaN</td>\n",
       "      <td>NaN</td>\n",
       "      <td>NaN</td>\n",
       "      <td>DF Individual - Demonstração de Valor Adicionado</td>\n",
       "      <td>...</td>\n",
       "      <td>ÚLTIMO</td>\n",
       "      <td>2021-12-31</td>\n",
       "      <td>7.05.01</td>\n",
       "      <td>Depreciação, Amortização e Exaustão</td>\n",
       "      <td>-98184.0</td>\n",
       "      <td>S</td>\n",
       "      <td>2021-12-01</td>\n",
       "      <td>NaN</td>\n",
       "      <td>DF Individual</td>\n",
       "      <td>Demonstração de Valor Adicionado</td>\n",
       "    </tr>\n",
       "    <tr>\n",
       "      <th>42345</th>\n",
       "      <td>33.376.989/0001-91</td>\n",
       "      <td>2021-12-31</td>\n",
       "      <td>1</td>\n",
       "      <td>IRB - BRASIL RESSEGUROS S.A.</td>\n",
       "      <td>24180</td>\n",
       "      <td>NaN</td>\n",
       "      <td>NaN</td>\n",
       "      <td>NaN</td>\n",
       "      <td>NaN</td>\n",
       "      <td>DF Individual - Demonstração de Valor Adicionado</td>\n",
       "      <td>...</td>\n",
       "      <td>ÚLTIMO</td>\n",
       "      <td>2021-12-31</td>\n",
       "      <td>7.07.01</td>\n",
       "      <td>Depreciação, Amortização e Exaustão</td>\n",
       "      <td>-44071.0</td>\n",
       "      <td>S</td>\n",
       "      <td>2021-01-01</td>\n",
       "      <td>NaN</td>\n",
       "      <td>DF Individual</td>\n",
       "      <td>Demonstração de Valor Adicionado</td>\n",
       "    </tr>\n",
       "  </tbody>\n",
       "</table>\n",
       "<p>524 rows × 22 columns</p>\n",
       "</div>"
      ],
      "text/plain": [
       "                 CNPJ_CIA    DT_REFER VERSAO                     DENOM_CIA  \\\n",
       "257    00.000.000/0001-91  2010-12-31      3               BCO BRASIL S.A.   \n",
       "259    00.000.000/0001-91  2010-12-31      3               BCO BRASIL S.A.   \n",
       "261    00.000.000/0001-91  2010-12-31      3               BCO BRASIL S.A.   \n",
       "263    00.000.000/0001-91  2010-12-31      3               BCO BRASIL S.A.   \n",
       "265    00.000.000/0001-91  2010-12-31      3               BCO BRASIL S.A.   \n",
       "...                   ...         ...    ...                           ...   \n",
       "117    00.000.208/0001-00  2021-12-31      3      BRB BCO DE BRASILIA S.A.   \n",
       "24715  33.376.989/0001-91  2021-12-31      1  IRB - BRASIL RESSEGUROS S.A.   \n",
       "45     00.000.000/0001-91  2021-12-31      2               BCO BRASIL S.A.   \n",
       "125    00.000.208/0001-00  2021-12-31      3      BRB BCO DE BRASILIA S.A.   \n",
       "42345  33.376.989/0001-91  2021-12-31      1  IRB - BRASIL RESSEGUROS S.A.   \n",
       "\n",
       "      CD_CVM CATEG_DOC  ID_DOC DT_RECEB LINK_DOC  \\\n",
       "257     1023       NaN     NaN      NaN      NaN   \n",
       "259     1023       NaN     NaN      NaN      NaN   \n",
       "261     1023       NaN     NaN      NaN      NaN   \n",
       "263     1023       NaN     NaN      NaN      NaN   \n",
       "265     1023       NaN     NaN      NaN      NaN   \n",
       "...      ...       ...     ...      ...      ...   \n",
       "117    14206       NaN     NaN      NaN      NaN   \n",
       "24715  24180       NaN     NaN      NaN      NaN   \n",
       "45      1023       NaN     NaN      NaN      NaN   \n",
       "125    14206       NaN     NaN      NaN      NaN   \n",
       "42345  24180       NaN     NaN      NaN      NaN   \n",
       "\n",
       "                                               GRUPO_DFP  ... ORDEM_EXERC  \\\n",
       "257    DF Consolidado - Demonstração das Mutações do ...  ...      ÚLTIMO   \n",
       "259    DF Consolidado - Demonstração das Mutações do ...  ...      ÚLTIMO   \n",
       "261    DF Consolidado - Demonstração das Mutações do ...  ...      ÚLTIMO   \n",
       "263    DF Consolidado - Demonstração das Mutações do ...  ...      ÚLTIMO   \n",
       "265    DF Consolidado - Demonstração das Mutações do ...  ...      ÚLTIMO   \n",
       "...                                                  ...  ...         ...   \n",
       "117    DF Consolidado - Demonstração de Valor Adicionado  ...      ÚLTIMO   \n",
       "24715  DF Consolidado - Demonstração de Valor Adicionado  ...      ÚLTIMO   \n",
       "45      DF Individual - Demonstração de Valor Adicionado  ...      ÚLTIMO   \n",
       "125     DF Individual - Demonstração de Valor Adicionado  ...      ÚLTIMO   \n",
       "42345   DF Individual - Demonstração de Valor Adicionado  ...      ÚLTIMO   \n",
       "\n",
       "      DT_FIM_EXERC CD_CONTA                             DS_CONTA    VL_CONTA  \\\n",
       "257     2010-12-31  5.05.01             Lucro Líquido do Período         0.0   \n",
       "259     2010-12-31  5.05.01             Lucro Líquido do Período         0.0   \n",
       "261     2010-12-31  5.05.01             Lucro Líquido do Período         0.0   \n",
       "263     2010-12-31  5.05.01             Lucro Líquido do Período  11296009.0   \n",
       "265     2010-12-31  5.05.01             Lucro Líquido do Período         0.0   \n",
       "...            ...      ...                                  ...         ...   \n",
       "117     2021-12-31  7.05.01  Depreciação, Amortização e Exaustão   -131565.0   \n",
       "24715   2021-12-31  7.07.01  Depreciação, Amortização e Exaustão    -44374.0   \n",
       "45      2021-12-31  7.05.01  Depreciação, Amortização e Exaustão  -2763722.0   \n",
       "125     2021-12-31  7.05.01  Depreciação, Amortização e Exaustão    -98184.0   \n",
       "42345   2021-12-31  7.07.01  Depreciação, Amortização e Exaustão    -44071.0   \n",
       "\n",
       "      ST_CONTA_FIXA DT_INI_EXERC  \\\n",
       "257               S   2010-01-01   \n",
       "259               S   2010-01-01   \n",
       "261               S   2010-01-01   \n",
       "263               S   2010-01-01   \n",
       "265               S   2010-01-01   \n",
       "...             ...          ...   \n",
       "117               S   2021-12-01   \n",
       "24715             S   2021-01-01   \n",
       "45                S   2021-01-01   \n",
       "125               S   2021-12-01   \n",
       "42345             S   2021-01-01   \n",
       "\n",
       "                                               COLUNA_DF         con_ind  \\\n",
       "257                         Capital Social Integralizado  DF Consolidado   \n",
       "259    Reservas de Capital, Opções Outorgadas e Ações...  DF Consolidado   \n",
       "261                                    Reservas de Lucro  DF Consolidado   \n",
       "263                       Lucros ou Prejuízos Acumulados  DF Consolidado   \n",
       "265                        Outros Resultados Abrangentes  DF Consolidado   \n",
       "...                                                  ...             ...   \n",
       "117                                                  NaN  DF Consolidado   \n",
       "24715                                                NaN  DF Consolidado   \n",
       "45                                                   NaN   DF Individual   \n",
       "125                                                  NaN   DF Individual   \n",
       "42345                                                NaN   DF Individual   \n",
       "\n",
       "                                              tipo_dem  \n",
       "257    Demonstração das Mutações do Patrimônio Líquido  \n",
       "259    Demonstração das Mutações do Patrimônio Líquido  \n",
       "261    Demonstração das Mutações do Patrimônio Líquido  \n",
       "263    Demonstração das Mutações do Patrimônio Líquido  \n",
       "265    Demonstração das Mutações do Patrimônio Líquido  \n",
       "...                                                ...  \n",
       "117                   Demonstração de Valor Adicionado  \n",
       "24715                 Demonstração de Valor Adicionado  \n",
       "45                    Demonstração de Valor Adicionado  \n",
       "125                   Demonstração de Valor Adicionado  \n",
       "42345                 Demonstração de Valor Adicionado  \n",
       "\n",
       "[524 rows x 22 columns]"
      ]
     },
     "execution_count": 25,
     "metadata": {},
     "output_type": "execute_result"
    }
   ],
   "source": [
    "filtro_dre2"
   ]
  },
  {
   "cell_type": "code",
   "execution_count": null,
   "metadata": {},
   "outputs": [],
   "source": []
  }
 ],
 "metadata": {
  "kernelspec": {
   "display_name": "Python 3.9.2 64-bit",
   "language": "python",
   "name": "python3"
  },
  "language_info": {
   "codemirror_mode": {
    "name": "ipython",
    "version": 3
   },
   "file_extension": ".py",
   "mimetype": "text/x-python",
   "name": "python",
   "nbconvert_exporter": "python",
   "pygments_lexer": "ipython3",
   "version": "3.9.2"
  },
  "orig_nbformat": 4,
  "vscode": {
   "interpreter": {
    "hash": "11938c6bc6919ae2720b4d5011047913343b08a43b18698fd82dedb0d4417594"
   }
  }
 },
 "nbformat": 4,
 "nbformat_minor": 2
}
