{
 "cells": [
  {
   "cell_type": "markdown",
   "metadata": {},
   "source": [
    "Imports, Funções e leitura do csv"
   ]
  },
  {
   "cell_type": "code",
   "execution_count": 11,
   "metadata": {},
   "outputs": [
    {
     "name": "stderr",
     "output_type": "stream",
     "text": [
      "C:\\Users\\olive\\AppData\\Local\\Temp\\ipykernel_5476\\3478197581.py:4: DtypeWarning: Columns (1,7,9,10,11,12,13,14,15,16,17,18,19,20,21,22,23,25) have mixed types. Specify dtype option on import or set low_memory=False.\n",
      "  Baseibov = pd.read_csv('datab3.csv',sep=',')\n"
     ]
    }
   ],
   "source": [
    "import pandas as pd\n",
    "import matplotlib.pyplot as plt\n",
    "\n",
    "Baseibov = pd.read_csv('datab3.csv',sep=',')"
   ]
  },
  {
   "cell_type": "code",
   "execution_count": 10,
   "metadata": {},
   "outputs": [
    {
     "name": "stdout",
     "output_type": "stream",
     "text": [
      "5915813\n",
      "1844\n"
     ]
    }
   ],
   "source": [
    "#Baseibov[:5]\n",
    "print(len(Baseibov))\n",
    "#a = Baseibov['CODNEG'] = 'BOVA11'\n",
    "#print(len(a))\n",
    "fil=['BOVA11      ','BOVA11F     ']\n",
    "a=Baseibov[Baseibov.CODNEG.isin(fil)]\n",
    "#print(a)\n",
    "print(len(a))\n",
    "#a[:5]"
   ]
  },
  {
   "cell_type": "code",
   "execution_count": null,
   "metadata": {},
   "outputs": [],
   "source": []
  }
 ],
 "metadata": {
  "kernelspec": {
   "display_name": "Python 3.9.2 64-bit",
   "language": "python",
   "name": "python3"
  },
  "language_info": {
   "codemirror_mode": {
    "name": "ipython",
    "version": 3
   },
   "file_extension": ".py",
   "mimetype": "text/x-python",
   "name": "python",
   "nbconvert_exporter": "python",
   "pygments_lexer": "ipython3",
   "version": "3.9.2"
  },
  "orig_nbformat": 4,
  "vscode": {
   "interpreter": {
    "hash": "11938c6bc6919ae2720b4d5011047913343b08a43b18698fd82dedb0d4417594"
   }
  }
 },
 "nbformat": 4,
 "nbformat_minor": 2
}
