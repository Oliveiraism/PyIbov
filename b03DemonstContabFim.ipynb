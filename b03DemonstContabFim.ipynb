{
 "cells": [
  {
   "cell_type": "markdown",
   "metadata": {},
   "source": [
    "Início"
   ]
  },
  {
   "cell_type": "code",
   "execution_count": 27,
   "metadata": {},
   "outputs": [],
   "source": [
    "import pandas as pd\n",
    "import os"
   ]
  },
  {
   "cell_type": "code",
   "execution_count": 28,
   "metadata": {},
   "outputs": [],
   "source": [
    "diretorio_atual = os.getcwd()\n",
    "dfp = pd.read_csv(f'{diretorio_atual}/dados_cvm/DFP/filtro_dreDFP.csv',sep=';')\n",
    "itr = pd.read_csv(f'{diretorio_atual}/dados_cvm/ITR/filtro_dreITR.csv',sep=';')"
   ]
  },
  {
   "cell_type": "code",
   "execution_count": 29,
   "metadata": {},
   "outputs": [],
   "source": [
    "base = pd.concat([dfp,itr])"
   ]
  },
  {
   "cell_type": "code",
   "execution_count": 30,
   "metadata": {},
   "outputs": [],
   "source": [
    "lista_conta = base['DS_CONTA'].unique()"
   ]
  },
  {
   "cell_type": "code",
   "execution_count": 31,
   "metadata": {},
   "outputs": [],
   "source": [
    "camposrelev = [\"Depreciação, Amortização e Exaustão\"\n",
    "                ,\"Imposto de Renda e Contribuição Social sobre o Lucro\"\n",
    "                ,\"Receitas das Operações\"\n",
    "                ,\"Resultado Financeiro\"\n",
    "                ,'Lucro líquido do exercício'\n",
    "                ,'Lucro líquido do período'\n",
    "                ,'Lucro líquido do Exercício'\n",
    "                ,'Lucro Líquido do Período'\n",
    "                ,'Lucro Líquido Consolidado do Período'\n",
    "                ,'Lucro líquido do Período'\n",
    "                ,'Lucro Líquido do período'\n",
    "                ]\n",
    "\n",
    "base['filtro'] = base['DS_CONTA'].isin(camposrelev).astype(int)\n",
    "base = base.drop(columns='Unnamed: 0')"
   ]
  },
  {
   "cell_type": "code",
   "execution_count": 34,
   "metadata": {},
   "outputs": [],
   "source": [
    "base.to_csv('base.csv',sep=';')"
   ]
  }
 ],
 "metadata": {
  "kernelspec": {
   "display_name": "Python 3.9.2 64-bit",
   "language": "python",
   "name": "python3"
  },
  "language_info": {
   "codemirror_mode": {
    "name": "ipython",
    "version": 3
   },
   "file_extension": ".py",
   "mimetype": "text/x-python",
   "name": "python",
   "nbconvert_exporter": "python",
   "pygments_lexer": "ipython3",
   "version": "3.9.2"
  },
  "orig_nbformat": 4,
  "vscode": {
   "interpreter": {
    "hash": "11938c6bc6919ae2720b4d5011047913343b08a43b18698fd82dedb0d4417594"
   }
  }
 },
 "nbformat": 4,
 "nbformat_minor": 2
}
