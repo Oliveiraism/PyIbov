{
 "cells": [
  {
   "cell_type": "markdown",
   "metadata": {},
   "source": [
    "Imports e Funções"
   ]
  },
  {
   "cell_type": "code",
   "execution_count": 1,
   "metadata": {},
   "outputs": [
    {
     "data": {
      "text/plain": [
       "Timestamp('2022-09-23 14:03:35.547282')"
      ]
     },
     "execution_count": 1,
     "metadata": {},
     "output_type": "execute_result"
    }
   ],
   "source": [
    "import pandas as pd\n",
    "\n",
    "def estruturar(a):\n",
    "    #a = nome da base\n",
    "    #dividir colunas\n",
    "    i= [0,2,10,12,24,27,39,49,52,56,69,82,95,108,121,134,147,152,170,188,201,202,210,217,230,242,245]\n",
    "    x=0\n",
    "    y=1\n",
    "\n",
    "    while x<len(i)-1:\n",
    "        if y ==1:\n",
    "            a[y]=a[0].str.slice(stop=i[y])\n",
    "            #print(y)\n",
    "            x+=1\n",
    "            y+=1\n",
    "        elif y==26:\n",
    "            a[y]=a[0].str.slice(start=i[x])\n",
    "            #print(y)\n",
    "            x+=1\n",
    "            y+=1\n",
    "        else:\n",
    "            a[y]=a[0].str.slice(start=i[x],stop=i[y])\n",
    "            #print(y)\n",
    "            x+=1\n",
    "            y+=1\n",
    "            if x==28:\n",
    "                break\n",
    "    a = a.drop(a.index[0])\n",
    "    #renomear colunas, para mis detalhes ver arquivo Desccol.txt\n",
    "    a.columns = ['0','TIPREG','DATAPREG','CODBDI','CODNEG','TPMERC','NOMRES','ESPECI','MODREF','PRAZOT','PREABE','PREMAX','PREMIN','PREMED','PREULT','PREOFC','PREOFV','TOTNEG','QUATOT','VOLTOT','PREEXE','INDOPC','DATVEN','FATCOT','PTOEXE','CODISI','DISMES']\n",
    "    print(len(a),'OK',)\n",
    "    return a\n",
    "\n",
    "def filtrar(a):\n",
    "    #a = nome da base\n",
    "    print('filtro de TIPREG')\n",
    "    \n",
    "    print(len(a))\n",
    "    a.columns = ['TIPREG','DATAPREG','CODBDI','CODNEG','TPMERC','NOMRES','ESPECI','MODREF','PRAZOT','PREABE','PREMAX','PREMIN','PREMED','PREULT','PREOFC','PREOFV','TOTNEG','QUATOT','VOLTOT','PREEXE','INDOPC','DATVEN','FATCOT','PTOEXE','CODISI','DISMES']\n",
    "    a = a.convert_dtypes()\n",
    "    a['TIPREG']= pd.to_numeric(a['TIPREG'])\n",
    "    datamask=a['TIPREG']==1\n",
    "    a=a[datamask]\n",
    "    print(len(a))\n",
    "    \n",
    "    exc=['COTAHIST']\n",
    "    a=a[~a.NOMRES.isin(exc)]\n",
    "\n",
    "    print('filtro de ESPECI')\n",
    "    exc=[\"CI        \", \"CI      MB\", \"CI  ER    \", \"CI  ER  MB\", \"CI *      \", \"DIR ORD NM\", \"DIR PRE N2\", \"DR3       \", \"DRN       \", \"DRN A     \", \"DRN C     \" , \"DRN ED    \"]\n",
    "    a=a[~a.NOMRES.isin(exc)]\n",
    "    print(len(a))\n",
    "    \n",
    "    return a\n",
    "\n",
    "pd.Timestamp.now()"
   ]
  },
  {
   "cell_type": "markdown",
   "metadata": {},
   "source": [
    "Preparação das tabelas"
   ]
  },
  {
   "cell_type": "code",
   "execution_count": 2,
   "metadata": {},
   "outputs": [
    {
     "name": "stdout",
     "output_type": "stream",
     "text": [
      "580155 OK\n",
      "779229 OK\n",
      "1251646 OK\n",
      "1831862 OK\n",
      "1472916 OK\n"
     ]
    },
    {
     "data": {
      "text/plain": [
       "Timestamp('2022-09-23 14:05:31.746900')"
      ]
     },
     "execution_count": 2,
     "metadata": {},
     "output_type": "execute_result"
    }
   ],
   "source": [
    "#bases de dados obtidas diretamente do site da B3\n",
    "\n",
    "##Importação das bases de dados\n",
    "\n",
    "data2018 = pd.read_csv('COTAHIST_A2018.TXT', header=None)\n",
    "data2018 = data2018.drop(data2018.index[0])\n",
    "estruturar(data2018)\n",
    "\n",
    "data2019 = pd.read_csv('COTAHIST_A2019.TXT', header=None)\n",
    "data2019 = data2019.drop(data2019.index[0])\n",
    "estruturar(data2019)\n",
    "\n",
    "data2020 = pd.read_csv('COTAHIST_A2020.TXT', header=None)\n",
    "data2020 = data2020.drop(data2020.index[0])\n",
    "estruturar(data2020)\n",
    "\n",
    "data2021 = pd.read_csv('COTAHIST_A2021.TXT', header=None)\n",
    "data2021 = data2021.drop(data2021.index[0])\n",
    "estruturar(data2021)\n",
    "\n",
    "data2022 = pd.read_csv('COTAHIST_A2022.TXT', header=None)\n",
    "data2022 = data2022.drop(data2022.index[0])\n",
    "estruturar(data2022)\n",
    "\n",
    "pd.Timestamp.now()"
   ]
  },
  {
   "cell_type": "code",
   "execution_count": 3,
   "metadata": {},
   "outputs": [
    {
     "data": {
      "text/plain": [
       "Timestamp('2022-09-23 14:06:10.227349')"
      ]
     },
     "execution_count": 3,
     "metadata": {},
     "output_type": "execute_result"
    }
   ],
   "source": [
    "data2018b = data2018.drop(columns=[0])\n",
    "data2019b = data2019.drop(columns=[0])\n",
    "data2020b = data2020.drop(columns=[0])\n",
    "data2021b = data2021.drop(columns=[0])\n",
    "data2022b = data2022.drop(columns=[0])\n",
    "\n",
    "pd.Timestamp.now()"
   ]
  },
  {
   "cell_type": "code",
   "execution_count": 4,
   "metadata": {},
   "outputs": [
    {
     "name": "stdout",
     "output_type": "stream",
     "text": [
      "filtro de TIPREG\n",
      "580156\n",
      "580155\n",
      "filtro de ESPECI\n",
      "580155\n",
      "filtro de TIPREG\n",
      "779230\n",
      "779229\n",
      "filtro de ESPECI\n",
      "779229\n",
      "filtro de TIPREG\n",
      "1251647\n",
      "1251646\n",
      "filtro de ESPECI\n",
      "1251646\n",
      "filtro de TIPREG\n",
      "1831863\n",
      "1831862\n",
      "filtro de ESPECI\n",
      "1831862\n",
      "filtro de TIPREG\n",
      "1472917\n",
      "1472916\n",
      "filtro de ESPECI\n",
      "1472916\n"
     ]
    },
    {
     "data": {
      "text/plain": [
       "Timestamp('2022-09-23 14:08:06.833884')"
      ]
     },
     "execution_count": 4,
     "metadata": {},
     "output_type": "execute_result"
    }
   ],
   "source": [
    "filtrar(data2018b)\n",
    "filtrar(data2019b)\n",
    "filtrar(data2020b)\n",
    "filtrar(data2021b)\n",
    "filtrar(data2022b)\n",
    "\n",
    "data2018b = data2018b.drop(columns=['TIPREG'])\n",
    "data2019b = data2019b.drop(columns=['TIPREG'])\n",
    "data2020b = data2020b.drop(columns=['TIPREG'])\n",
    "data2021b = data2021b.drop(columns=['TIPREG'])\n",
    "data2022b = data2022b.drop(columns=['TIPREG'])\n",
    "pd.Timestamp.now()"
   ]
  },
  {
   "cell_type": "code",
   "execution_count": 11,
   "metadata": {},
   "outputs": [
    {
     "name": "stdout",
     "output_type": "stream",
     "text": [
      "1         20180102\n",
      "2         20180102\n",
      "3         20180102\n",
      "4         20180102\n",
      "5         20180102\n",
      "            ...   \n",
      "580152    20181228\n",
      "580153    20181228\n",
      "580154    20181228\n",
      "580155    20181228\n",
      "580156    COTAHIST\n",
      "Name: DATAPREG, Length: 580156, dtype: object\n"
     ]
    }
   ],
   "source": [
    "print(data2018b['DATAPREG'])\n",
    "#data2018b = data2018b.convert_dtypes()\n",
    "#data2018b['DATA DO PREGÃO']= pd.to_datetime(data2018b['DATA DO PREGÃO'])\n",
    "#pd.Timestamp.now()"
   ]
  },
  {
   "cell_type": "markdown",
   "metadata": {},
   "source": [
    "Juntando as tabelas"
   ]
  },
  {
   "cell_type": "code",
   "execution_count": null,
   "metadata": {},
   "outputs": [
    {
     "data": {
      "text/html": [
       "<div>\n",
       "<style scoped>\n",
       "    .dataframe tbody tr th:only-of-type {\n",
       "        vertical-align: middle;\n",
       "    }\n",
       "\n",
       "    .dataframe tbody tr th {\n",
       "        vertical-align: top;\n",
       "    }\n",
       "\n",
       "    .dataframe thead th {\n",
       "        text-align: right;\n",
       "    }\n",
       "</style>\n",
       "<table border=\"1\" class=\"dataframe\">\n",
       "  <thead>\n",
       "    <tr style=\"text-align: right;\">\n",
       "      <th></th>\n",
       "      <th>DATA DO PREGÃO</th>\n",
       "      <th>CODBDI</th>\n",
       "      <th>CODNEG</th>\n",
       "      <th>TPMERC</th>\n",
       "      <th>NOMRES</th>\n",
       "      <th>ESPECI</th>\n",
       "      <th>MODREF</th>\n",
       "      <th>PRAZOT</th>\n",
       "      <th>PREABE</th>\n",
       "      <th>PREMAX</th>\n",
       "      <th>...</th>\n",
       "      <th>TOTNEG</th>\n",
       "      <th>QUATOT</th>\n",
       "      <th>VOLTOT</th>\n",
       "      <th>PREEXE</th>\n",
       "      <th>INDOPC</th>\n",
       "      <th>DATVEN</th>\n",
       "      <th>FATCOT</th>\n",
       "      <th>PTOEXE</th>\n",
       "      <th>CODISI</th>\n",
       "      <th>DISMES</th>\n",
       "    </tr>\n",
       "  </thead>\n",
       "  <tbody>\n",
       "    <tr>\n",
       "      <th>1</th>\n",
       "      <td>20180102</td>\n",
       "      <td>02</td>\n",
       "      <td>AALR3</td>\n",
       "      <td>010</td>\n",
       "      <td>ALLIAR</td>\n",
       "      <td>ON      NM</td>\n",
       "      <td></td>\n",
       "      <td>R$</td>\n",
       "      <td>0000000001494</td>\n",
       "      <td>0000000001516</td>\n",
       "      <td>...</td>\n",
       "      <td>00403</td>\n",
       "      <td>000000000000094500</td>\n",
       "      <td>000000000140299100</td>\n",
       "      <td>0000000000000</td>\n",
       "      <td>0</td>\n",
       "      <td>99991231</td>\n",
       "      <td>0000001</td>\n",
       "      <td>0000000000000</td>\n",
       "      <td>BRAALRACNOR6</td>\n",
       "      <td>100</td>\n",
       "    </tr>\n",
       "    <tr>\n",
       "      <th>2</th>\n",
       "      <td>20180102</td>\n",
       "      <td>96</td>\n",
       "      <td>AALR3F</td>\n",
       "      <td>020</td>\n",
       "      <td>ALLIAR</td>\n",
       "      <td>ON      NM</td>\n",
       "      <td></td>\n",
       "      <td>R$</td>\n",
       "      <td>0000000001479</td>\n",
       "      <td>0000000001493</td>\n",
       "      <td>...</td>\n",
       "      <td>00007</td>\n",
       "      <td>000000000000000225</td>\n",
       "      <td>000000000000334384</td>\n",
       "      <td>0000000000000</td>\n",
       "      <td>0</td>\n",
       "      <td>99991231</td>\n",
       "      <td>0000001</td>\n",
       "      <td>0000000000000</td>\n",
       "      <td>BRAALRACNOR6</td>\n",
       "      <td>100</td>\n",
       "    </tr>\n",
       "    <tr>\n",
       "      <th>3</th>\n",
       "      <td>20180102</td>\n",
       "      <td>02</td>\n",
       "      <td>AAPL34</td>\n",
       "      <td>010</td>\n",
       "      <td>APPLE</td>\n",
       "      <td>DRN</td>\n",
       "      <td></td>\n",
       "      <td>R$</td>\n",
       "      <td>0000000005681</td>\n",
       "      <td>0000000005681</td>\n",
       "      <td>...</td>\n",
       "      <td>00004</td>\n",
       "      <td>000000000000000900</td>\n",
       "      <td>000000000005074700</td>\n",
       "      <td>0000000000000</td>\n",
       "      <td>0</td>\n",
       "      <td>99991231</td>\n",
       "      <td>0000001</td>\n",
       "      <td>0000000000000</td>\n",
       "      <td>BRAAPLBDR004</td>\n",
       "      <td>123</td>\n",
       "    </tr>\n",
       "    <tr>\n",
       "      <th>4</th>\n",
       "      <td>20180102</td>\n",
       "      <td>96</td>\n",
       "      <td>AAPL34F</td>\n",
       "      <td>020</td>\n",
       "      <td>APPLE</td>\n",
       "      <td>DRN</td>\n",
       "      <td></td>\n",
       "      <td>R$</td>\n",
       "      <td>0000000005681</td>\n",
       "      <td>0000000006500</td>\n",
       "      <td>...</td>\n",
       "      <td>00007</td>\n",
       "      <td>000000000000000061</td>\n",
       "      <td>000000000000363770</td>\n",
       "      <td>0000000000000</td>\n",
       "      <td>0</td>\n",
       "      <td>99991231</td>\n",
       "      <td>0000001</td>\n",
       "      <td>0000000000000</td>\n",
       "      <td>BRAAPLBDR004</td>\n",
       "      <td>123</td>\n",
       "    </tr>\n",
       "    <tr>\n",
       "      <th>5</th>\n",
       "      <td>20180102</td>\n",
       "      <td>10</td>\n",
       "      <td>ABCB2</td>\n",
       "      <td>010</td>\n",
       "      <td>ABC BRASIL</td>\n",
       "      <td>DIR PRE N2</td>\n",
       "      <td></td>\n",
       "      <td>R$</td>\n",
       "      <td>0000000000411</td>\n",
       "      <td>0000000000420</td>\n",
       "      <td>...</td>\n",
       "      <td>00006</td>\n",
       "      <td>000000000000001200</td>\n",
       "      <td>000000000000497700</td>\n",
       "      <td>0000000000000</td>\n",
       "      <td>0</td>\n",
       "      <td>99991231</td>\n",
       "      <td>0000001</td>\n",
       "      <td>0000000000000</td>\n",
       "      <td>BRABCBD12PR6</td>\n",
       "      <td>128</td>\n",
       "    </tr>\n",
       "  </tbody>\n",
       "</table>\n",
       "<p>5 rows × 25 columns</p>\n",
       "</div>"
      ],
      "text/plain": [
       "  DATA DO PREGÃO CODBDI        CODNEG TPMERC        NOMRES      ESPECI MODREF  \\\n",
       "1       20180102     02  AALR3           010  ALLIAR        ON      NM          \n",
       "2       20180102     96  AALR3F          020  ALLIAR        ON      NM          \n",
       "3       20180102     02  AAPL34          010  APPLE         DRN                 \n",
       "4       20180102     96  AAPL34F         020  APPLE         DRN                 \n",
       "5       20180102     10  ABCB2           010  ABC BRASIL    DIR PRE N2          \n",
       "\n",
       "  PRAZOT         PREABE         PREMAX  ... TOTNEG              QUATOT  \\\n",
       "1   R$    0000000001494  0000000001516  ...  00403  000000000000094500   \n",
       "2   R$    0000000001479  0000000001493  ...  00007  000000000000000225   \n",
       "3   R$    0000000005681  0000000005681  ...  00004  000000000000000900   \n",
       "4   R$    0000000005681  0000000006500  ...  00007  000000000000000061   \n",
       "5   R$    0000000000411  0000000000420  ...  00006  000000000000001200   \n",
       "\n",
       "               VOLTOT         PREEXE INDOPC    DATVEN   FATCOT         PTOEXE  \\\n",
       "1  000000000140299100  0000000000000      0  99991231  0000001  0000000000000   \n",
       "2  000000000000334384  0000000000000      0  99991231  0000001  0000000000000   \n",
       "3  000000000005074700  0000000000000      0  99991231  0000001  0000000000000   \n",
       "4  000000000000363770  0000000000000      0  99991231  0000001  0000000000000   \n",
       "5  000000000000497700  0000000000000      0  99991231  0000001  0000000000000   \n",
       "\n",
       "         CODISI DISMES  \n",
       "1  BRAALRACNOR6    100  \n",
       "2  BRAALRACNOR6    100  \n",
       "3  BRAAPLBDR004    123  \n",
       "4  BRAAPLBDR004    123  \n",
       "5  BRABCBD12PR6    128  \n",
       "\n",
       "[5 rows x 25 columns]"
      ]
     },
     "execution_count": 7,
     "metadata": {},
     "output_type": "execute_result"
    }
   ],
   "source": [
    "##Unificando a base\n",
    "data = pd.concat([data2018b,data2019b,data2020b,data2021b,data2022b])\n",
    "data[:5]\n",
    "pd.Timestamp.now()"
   ]
  },
  {
   "cell_type": "markdown",
   "metadata": {},
   "source": [
    "Criando CSV"
   ]
  },
  {
   "cell_type": "code",
   "execution_count": null,
   "metadata": {},
   "outputs": [],
   "source": [
    "#Criação de csv para evitar retrabalho e economia de tempo\n",
    "\n",
    "data.to_csv('datab3.csv',sep=',')\n",
    "pd.Timestamp.now()"
   ]
  }
 ],
 "metadata": {
  "kernelspec": {
   "display_name": "Python 3.9.2 64-bit",
   "language": "python",
   "name": "python3"
  },
  "language_info": {
   "codemirror_mode": {
    "name": "ipython",
    "version": 3
   },
   "file_extension": ".py",
   "mimetype": "text/x-python",
   "name": "python",
   "nbconvert_exporter": "python",
   "pygments_lexer": "ipython3",
   "version": "3.9.2"
  },
  "orig_nbformat": 4,
  "vscode": {
   "interpreter": {
    "hash": "11938c6bc6919ae2720b4d5011047913343b08a43b18698fd82dedb0d4417594"
   }
  }
 },
 "nbformat": 4,
 "nbformat_minor": 2
}
